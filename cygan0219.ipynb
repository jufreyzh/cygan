{
 "cells": [
  {
   "cell_type": "code",
   "execution_count": null,
   "outputs": [],
   "source": [],
   "metadata": {
    "collapsed": false,
    "pycharm": {
     "name": "#%%\n"
    }
   }
  },
  {
   "cell_type": "code",
   "execution_count": null,
   "outputs": [],
   "source": [],
   "metadata": {
    "collapsed": false,
    "pycharm": {
     "name": "#%%\n"
    }
   }
  },
  {
   "cell_type": "markdown",
   "source": [
    "##### Copyright 2019 The TensorFlow Authors."
   ],
   "metadata": {
    "collapsed": false
   }
  },
  {
   "cell_type": "code",
   "execution_count": null,
   "outputs": [],
   "source": [
    "#@title Licensed under the Apache License, Version 2.0 (the \"License\");\n",
    "# you may not use this file except in compliance with the License.\n",
    "# You may obtain a copy of the License at\n",
    "#\n",
    "# https://www.apache.org/licenses/LICENSE-2.0\n",
    "#\n",
    "# Unless required by applicable law or agreed to in writing, software\n",
    "# distributed under the License is distributed on an \"AS IS\" BASIS,\n",
    "# WITHOUT WARRANTIES OR CONDITIONS OF ANY KIND, either express or implied.\n",
    "# See the License for the specific language governing permissions and\n",
    "# limitations under the License."
   ],
   "metadata": {
    "collapsed": false,
    "pycharm": {
     "name": "#%%\n"
    }
   }
  },
  {
   "cell_type": "markdown",
   "source": [
    "# CycleGAN"
   ],
   "metadata": {
    "collapsed": false
   }
  },
  {
   "cell_type": "markdown",
   "source": [
    "<table class=\"tfo-notebook-buttons\" align=\"left\">\n",
    "  <td>\n",
    "    <a target=\"_blank\" href=\"https://www.tensorflow.org/tutorials/generative/cyclegan\"><img src=\"https://www.tensorflow.org/images/tf_logo_32px.png\" />View on TensorFlow.org</a>\n",
    "  </td>\n",
    "  <td>\n",
    "    <a target=\"_blank\" href=\"https://colab.research.google.com/github/tensorflow/docs/blob/master/site/en/tutorials/generative/cyclegan.ipynb\"><img src=\"https://www.tensorflow.org/images/colab_logo_32px.png\" />Run in Google Colab</a>\n",
    "  </td>\n",
    "  <td>\n",
    "    <a target=\"_blank\" href=\"https://github.com/tensorflow/docs/blob/master/site/en/tutorials/generative/cyclegan.ipynb\"><img src=\"https://www.tensorflow.org/images/GitHub-Mark-32px.png\" />View source on GitHub</a>\n",
    "  </td>\n",
    "  <td>\n",
    "    <a href=\"https://storage.googleapis.com/tensorflow_docs/docs/site/en/tutorials/generative/cyclegan.ipynb\"><img src=\"https://www.tensorflow.org/images/download_logo_32px.png\" />Download notebook</a>\n",
    "  </td>\n",
    "</table>"
   ],
   "metadata": {
    "collapsed": false
   }
  },
  {
   "cell_type": "markdown",
   "source": [
    "This notebook demonstrates unpaired image to image translation using conditional GAN's, as described in [Unpaired Image-to-Image Translation using Cycle-Consistent Adversarial Networks](https://arxiv.org/abs/1703.10593), also known as CycleGAN. The paper proposes a method that can capture the characteristics of one image domain and figure out how these characteristics could be translated into another image domain, all in the absence of any paired training examples. \n",
    "\n",
    "This notebook assumes you are familiar with Pix2Pix, which you can learn about in the [Pix2Pix tutorial](https://www.tensorflow.org/tutorials/generative/pix2pix). The code for CycleGAN is similar, the main difference is an additional loss function, and the use of unpaired training data.\n",
    "\n",
    "CycleGAN uses a cycle consistency loss to enable training without the need for paired data. In other words, it can translate from one domain to another without a one-to-one mapping between the source and target domain. \n",
    "\n",
    "This opens up the possibility to do a lot of interesting tasks like photo-enhancement, image colorization, style transfer, etc. All you need is the source and the target dataset (which is simply a directory of images).\n",
    "\n",
    "![Output Image 1](https://github.com/tensorflow/docs/blob/master/site/en/tutorials/generative/images/horse2zebra_1.png?raw=1)\n",
    "![Output Image 2](https://github.com/tensorflow/docs/blob/master/site/en/tutorials/generative/images/horse2zebra_2.png?raw=1)"
   ],
   "metadata": {
    "collapsed": false
   }
  },
  {
   "cell_type": "markdown",
   "source": [
    "## Set up the input pipeline"
   ],
   "metadata": {
    "collapsed": false
   }
  },
  {
   "cell_type": "markdown",
   "source": [
    "Install the [tensorflow_examples](https://github.com/tensorflow/examples) package that enables importing of the generator and the discriminator."
   ],
   "metadata": {
    "collapsed": false
   }
  },
  {
   "cell_type": "code",
   "execution_count": 1,
   "outputs": [
    {
     "name": "stdout",
     "text": [
      "\r\nUsage:   \r\n  pip install [options] <requirement specifier> [package-index-options] ...\r\n  pip install [options] -r <requirements file> [package-index-options] ...\r\n  pip install [options] [-e] <vcs project url> ...\r\n  pip install [options] [-e] <local project path> ...\r\n  pip install [options] <archive url/path> ...\r\n\r\nDescription:\r\n  Install packages from:\r\n  \r\n  - PyPI (and other indexes) using requirement specifiers.\r\n  - VCS project urls.\r\n  - Local project directories.\r\n  - Local or remote source archives.\r\n  \r\n  pip also supports installing from \"requirements files\", which provide\r\n  an easy way to specify a whole environment to be installed.\r\n\r\nInstall Options:\r\n  -r, --requirement <file>    Install from the given requirements file. This\r\n                              option can be used multiple times.\r\n  -c, --constraint <file>     Constrain versions using the given constraints\r\n                              file. This option can be used multiple times.\r\n  --no-deps                   Don't install package dependencies.\r\n  --pre                       Include pre-release and development versions. By\r\n                              default, pip only finds stable versions.\r\n  -e, --editable <path/url>   Install a project in editable mode (i.e.\r\n                              setuptools \"develop mode\") from a local project\r\n                              path or a VCS url.\r\n  -t, --target <dir>          Install packages into <dir>. By default this\r\n                              will not replace existing files/folders in\r\n                              <dir>. Use --upgrade to replace existing\r\n                              packages in <dir> with new versions.\r\n  --platform <platform>       Only use wheels compatible with <platform>.\r\n                              Defaults to the platform of the running system.\r\n  --python-version <python_version>\r\n                              Only use wheels compatible with Python\r\n                              interpreter version <version>. If not specified,\r\n                              then the current system interpreter minor\r\n                              version is used. A major version (e.g. '2') can\r\n                              be specified to match all minor revs of that\r\n                              major version.  A minor version (e.g. '34') can\r\n                              also be specified.\r\n  --implementation <implementation>\r\n                              Only use wheels compatible with Python\r\n                              implementation <implementation>, e.g. 'pp',\r\n                              'jy', 'cp',  or 'ip'. If not specified, then the\r\n                              current interpreter implementation is used.  Use\r\n                              'py' to force implementation-agnostic wheels.\r\n  --abi <abi>                 Only use wheels compatible with Python abi\r\n                              <abi>, e.g. 'pypy_41'.  If not specified, then\r\n                              the current interpreter abi tag is used.\r\n                              Generally you will need to specify\r\n                              --implementation, --platform, and --python-\r\n                              version when using this option.\r\n  --user                      Install to the Python user install directory for\r\n                              your platform. Typically ~/.local/, or\r\n                              %APPDATA%\\Python on Windows. (See the Python\r\n                              documentation for site.USER_BASE for full\r\n                              details.)\r\n  --root <dir>                Install everything relative to this alternate\r\n                              root directory.\r\n  --prefix <dir>              Installation prefix where lib, bin and other\r\n                              top-level folders are placed\r\n  -b, --build <dir>           Directory to unpack packages into and build in.\r\n                              Note that an initial build still takes place in\r\n                              a temporary directory. The location of temporary\r\n                              directories can be controlled by setting the\r\n                              TMPDIR environment variable (TEMP on Windows)\r\n                              appropriately. When passed, build directories\r\n                              are not cleaned in case of failures.\r\n  --src <dir>                 Directory to check out editable projects into.\r\n                              The default in a virtualenv is \"<venv\r\n                              path>/src\". The default for global installs is\r\n                              \"<current dir>/src\".\r\n  -U, --upgrade               Upgrade all specified packages to the newest\r\n                              available version. The handling of dependencies\r\n                              depends on the upgrade-strategy used.\r\n  --upgrade-strategy <upgrade_strategy>\r\n                              Determines how dependency upgrading should be\r\n                              handled [default: only-if-needed]. \"eager\" -\r\n                              dependencies are upgraded regardless of whether\r\n                              the currently installed version satisfies the\r\n                              requirements of the upgraded package(s). \"only-\r\n                              if-needed\" -  are upgraded only when they do not\r\n                              satisfy the requirements of the upgraded\r\n                              package(s).\r\n  --force-reinstall           Reinstall all packages even if they are already\r\n                              up-to-date.\r\n  -I, --ignore-installed      Ignore the installed packages (reinstalling\r\n                              instead).\r\n  --ignore-requires-python    Ignore the Requires-Python information.\r\n  --no-build-isolation        Disable isolation when building a modern source\r\n                              distribution. Build dependencies specified by\r\n                              PEP 518 must be already installed if this option\r\n                              is used.\r\n  --use-pep517                Use PEP 517 for building source distributions\r\n                              (use --no-use-pep517 to force legacy behaviour).\r\n  --install-option <options>  Extra arguments to be supplied to the setup.py\r\n                              install command (use like --install-option=\"--\r\n                              install-scripts=/usr/local/bin\"). Use multiple\r\n                              --install-option options to pass multiple\r\n                              options to setup.py install. If you are using an\r\n                              option with a directory path, be sure to use\r\n                              absolute path.\r\n  --global-option <options>   Extra global options to be supplied to the\r\n                              setup.py call before the install command.\r\n  --compile                   Compile Python source files to bytecode\r\n  --no-compile                Do not compile Python source files to bytecode\r\n  --no-warn-script-location   Do not warn when installing scripts outside PATH\r\n  --no-warn-conflicts         Do not warn about broken dependencies\r\n  --no-binary <format_control>\r\n                              Do not use binary packages. Can be supplied\r\n                              multiple times, and each time adds to the\r\n                              existing value. Accepts either :all: to disable\r\n                              all binary packages, :none: to empty the set, or\r\n                              one or more package names with commas between\r\n                              them. Note that some packages are tricky to\r\n                              compile and may fail to install when this option\r\n                              is used on them.\r\n  --only-binary <format_control>\r\n                              Do not use source packages. Can be supplied\r\n                              multiple times, and each time adds to the\r\n                              existing value. Accepts either :all: to disable\r\n                              all source packages, :none: to empty the set, or\r\n                              one or more package names with commas between\r\n                              them. Packages without binary distributions will\r\n                              fail to install when this option is used on\r\n                              them.\r\n  --prefer-binary             Prefer older binary packages over newer source\r\n                              packages.\r\n  --no-clean                  Don't clean up build directories.\r\n  --require-hashes            Require a hash to check each requirement\r\n                              against, for repeatable installs. This option is\r\n                              implied when any package in a requirements file\r\n                              has a --hash option.\r\n  --progress-bar <progress_bar>\r\n                              Specify type of progress to be displayed\r\n                              [off|on|ascii|pretty|emoji] (default: on)\r\n\r\nPackage Index Options:\r\n  -i, --index-url <url>       Base URL of Python Package Index (default\r\n                              https://pypi.org/simple). This should point to a\r\n                              repository compliant with PEP 503 (the simple\r\n                              repository API) or a local directory laid out in\r\n                              the same format.\r\n  --extra-index-url <url>     Extra URLs of package indexes to use in addition\r\n                              to --index-url. Should follow the same rules as\r\n                              --index-url.\r\n  --no-index                  Ignore package index (only looking at --find-\r\n                              links URLs instead).\r\n  -f, --find-links <url>      If a url or path to an html file, then parse for\r\n                              links to archives. If a local path or file://\r\n                              url that's a directory, then look for archives\r\n                              in the directory listing.\r\n\r\nGeneral Options:\r\n  -h, --help                  Show help.\r\n  --isolated                  Run pip in an isolated mode, ignoring\r\n                              environment variables and user configuration.\r\n  -v, --verbose               Give more output. Option is additive, and can be\r\n                              used up to 3 times.\r\n  -V, --version               Show version and exit.\r\n  -q, --quiet                 Give less output. Option is additive, and can be\r\n                              used up to 3 times (corresponding to WARNING,\r\n                              ERROR, and CRITICAL logging levels).\r\n  --log <path>                Path to a verbose appending log.\r\n  --proxy <proxy>             Specify a proxy in the form\r\n                              [user:passwd@]proxy.server:port.\r\n  --retries <retries>         Maximum number of retries each connection should\r\n                              attempt (default 5 times).\r\n  --timeout <sec>             Set the socket timeout (default 15 seconds).\r\n  --exists-action <action>    Default action when a path already exists:\r\n                              (s)witch, (i)gnore, (w)ipe, (b)ackup, (a)bort).\r\n  --trusted-host <hostname>   Mark this host as trusted, even though it does\r\n                              not have valid or any HTTPS.\r\n  --cert <path>               Path to alternate CA bundle.\r\n  --client-cert <path>        Path to SSL client certificate, a single file\r\n                              containing the private key and the certificate\r\n                              in PEM format.\r\n  --cache-dir <dir>           Store the cache data in <dir>.\r\n  --no-cache-dir              Disable the cache.\r\n  --disable-pip-version-check\r\n                              Don't periodically check PyPI to determine\r\n                              whether a new version of pip is available for\r\n                              download. Implied with --no-index.\r\n  --no-color                  Suppress colored output\r\n"
     ],
     "output_type": "stream"
    }
   ],
   "source": [
    "!pip install --help"
   ],
   "metadata": {
    "collapsed": false,
    "pycharm": {
     "name": "#%%\n",
     "is_executing": false
    }
   }
  },
  {
   "cell_type": "code",
   "execution_count": 5,
   "outputs": [
    {
     "name": "stdout",
     "text": [
      "Collecting tensorflow\r\n",
      "  Using cached https://files.pythonhosted.org/packages/35/55/a0dbd642e68e68f3e309d1413abdc0a7aa7e1534c79c0fc2501defb864ac/tensorflow-2.1.0-cp37-cp37m-macosx_10_11_x86_64.whl\r\n",
      "Collecting gast==0.2.2 (from tensorflow)\r\n",
      "Collecting google-pasta>=0.1.6 (from tensorflow)\r\n",
      "  Using cached https://files.pythonhosted.org/packages/c3/fd/1e86bc4837cc9a3a5faf3db9b1854aa04ad35b5f381f9648fbe81a6f94e4/google_pasta-0.1.8-py3-none-any.whl\r\n",
      "Requirement already satisfied: absl-py>=0.7.0 in ./venv/lib/python3.7/site-packages (from tensorflow) (0.9.0)\r\nCollecting keras-preprocessing>=1.1.0 (from tensorflow)\r\n",
      "  Using cached https://files.pythonhosted.org/packages/28/6a/8c1f62c37212d9fc441a7e26736df51ce6f0e38455816445471f10da4f0a/Keras_Preprocessing-1.1.0-py2.py3-none-any.whl\r\n",
      "Collecting scipy==1.4.1; python_version >= \"3\" (from tensorflow)\r\n",
      "  Using cached https://files.pythonhosted.org/packages/85/7a/ae480be23b768910a9327c33517ced4623ba88dc035f9ce0206657c353a9/scipy-1.4.1-cp37-cp37m-macosx_10_6_intel.whl\r\n",
      "Collecting protobuf>=3.8.0 (from tensorflow)\r\n",
      "  Using cached https://files.pythonhosted.org/packages/4c/25/c057a298635d08d087a20f51ff4287d821814208ebb045d84ea65535b3e3/protobuf-3.11.3-cp37-cp37m-macosx_10_9_x86_64.whl\r\n",
      "Collecting numpy<2.0,>=1.16.0 (from tensorflow)\r\n",
      "  Using cached https://files.pythonhosted.org/packages/2f/5b/2cc2b9285e8b2ca8d2c1e4a2cbf1b12d70a2488ea78170de1909bca725f2/numpy-1.18.1-cp37-cp37m-macosx_10_9_x86_64.whl\r\n",
      "Collecting termcolor>=1.1.0 (from tensorflow)\r\n",
      "Collecting keras-applications>=1.0.8 (from tensorflow)\r\n",
      "  Using cached https://files.pythonhosted.org/packages/71/e3/19762fdfc62877ae9102edf6342d71b28fbfd9dea3d2f96a882ce099b03f/Keras_Applications-1.0.8-py3-none-any.whl\r\n",
      "Collecting astor>=0.6.0 (from tensorflow)\r\n",
      "  Using cached https://files.pythonhosted.org/packages/c3/88/97eef84f48fa04fbd6750e62dcceafba6c63c81b7ac1420856c8dcc0a3f9/astor-0.8.1-py2.py3-none-any.whl\r\n",
      "Collecting opt-einsum>=2.3.2 (from tensorflow)\r\n",
      "Requirement already satisfied: six>=1.12.0 in ./venv/lib/python3.7/site-packages (from tensorflow) (1.14.0)\r\n",
      "Collecting grpcio>=1.8.6 (from tensorflow)\r\n",
      "  Using cached https://files.pythonhosted.org/packages/35/f5/9dce584256802e9d26f51e689bf42b365442c6c52f1af8a44c86ad62359a/grpcio-1.27.2-cp37-cp37m-macosx_10_9_x86_64.whl\r\n",
      "Collecting wheel>=0.26; python_version >= \"3\" (from tensorflow)\r\n",
      "  Using cached https://files.pythonhosted.org/packages/8c/23/848298cccf8e40f5bbb59009b32848a4c38f4e7f3364297ab3c3e2e2cd14/wheel-0.34.2-py2.py3-none-any.whl\r\nCollecting wrapt>=1.11.1 (from tensorflow)\r\n",
      "  Using cached https://files.pythonhosted.org/packages/ee/bc/7993faa8084b5a5dbabb07a197ae1b7590da4752dc80455d878573553e2f/wrapt-1.12.0.tar.gz\r\n",
      "Collecting tensorflow-estimator<2.2.0,>=2.1.0rc0 (from tensorflow)\r\n",
      "  Using cached https://files.pythonhosted.org/packages/18/90/b77c328a1304437ab1310b463e533fa7689f4bfc41549593056d812fab8e/tensorflow_estimator-2.1.0-py2.py3-none-any.whl\r\n",
      "Collecting tensorboard<2.2.0,>=2.1.0 (from tensorflow)\r\n",
      "  Using cached https://files.pythonhosted.org/packages/40/23/53ffe290341cd0855d595b0a2e7485932f473798af173bbe3a584b99bb06/tensorboard-2.1.0-py3-none-any.whl\r\n",
      "Requirement already satisfied: setuptools in ./venv/lib/python3.7/site-packages/setuptools-40.8.0-py3.7.egg (from protobuf>=3.8.0->tensorflow) (40.8.0)\r\nCollecting h5py (from keras-applications>=1.0.8->tensorflow)\r\n",
      "  Using cached https://files.pythonhosted.org/packages/1a/8b/4d01ae9a9d50a0bcc7b0b9aae41785d8d9de6fa9bba04dc20b1582181d2d/h5py-2.10.0-cp37-cp37m-macosx_10_6_intel.whl\r\n",
      "Collecting markdown>=2.6.8 (from tensorboard<2.2.0,>=2.1.0->tensorflow)\r\n",
      "  Using cached https://files.pythonhosted.org/packages/ab/c4/ba46d44855e6eb1770a12edace5a165a0c6de13349f592b9036257f3c3d3/Markdown-3.2.1-py2.py3-none-any.whl\r\n",
      "Collecting werkzeug>=0.11.15 (from tensorboard<2.2.0,>=2.1.0->tensorflow)\r\n",
      "  Using cached https://files.pythonhosted.org/packages/ba/a5/d6f8a6e71f15364d35678a4ec8a0186f980b3bd2545f40ad51dd26a87fb1/Werkzeug-1.0.0-py2.py3-none-any.whl\r\n",
      "Collecting google-auth<2,>=1.6.3 (from tensorboard<2.2.0,>=2.1.0->tensorflow)\r\n",
      "  Using cached https://files.pythonhosted.org/packages/5a/8d/e2ebbd0502627ed0d8a408162020e1c0792f088b49fddeedaaeebc206ed7/google_auth-1.11.2-py2.py3-none-any.whl\r\n",
      "Collecting google-auth-oauthlib<0.5,>=0.4.1 (from tensorboard<2.2.0,>=2.1.0->tensorflow)\r\n",
      "  Using cached https://files.pythonhosted.org/packages/7b/b8/88def36e74bee9fce511c9519571f4e485e890093ab7442284f4ffaef60b/google_auth_oauthlib-0.4.1-py2.py3-none-any.whl\r\n",
      "Collecting requests<3,>=2.21.0 (from tensorboard<2.2.0,>=2.1.0->tensorflow)\r\n",
      "  Using cached https://files.pythonhosted.org/packages/51/bd/23c926cd341ea6b7dd0b2a00aba99ae0f828be89d72b2190f27c11d4b7fb/requests-2.22.0-py2.py3-none-any.whl\r\n",
      "Collecting cachetools<5.0,>=2.0.0 (from google-auth<2,>=1.6.3->tensorboard<2.2.0,>=2.1.0->tensorflow)\r\n",
      "  Using cached https://files.pythonhosted.org/packages/08/6a/abf83cb951617793fd49c98cb9456860f5df66ff89883c8660aa0672d425/cachetools-4.0.0-py3-none-any.whl\r\n",
      "Collecting pyasn1-modules>=0.2.1 (from google-auth<2,>=1.6.3->tensorboard<2.2.0,>=2.1.0->tensorflow)\r\n",
      "  Using cached https://files.pythonhosted.org/packages/95/de/214830a981892a3e286c3794f41ae67a4495df1108c3da8a9f62159b9a9d/pyasn1_modules-0.2.8-py2.py3-none-any.whl\r\n",
      "Collecting rsa<4.1,>=3.1.4 (from google-auth<2,>=1.6.3->tensorboard<2.2.0,>=2.1.0->tensorflow)\r\n",
      "  Using cached https://files.pythonhosted.org/packages/02/e5/38518af393f7c214357079ce67a317307936896e961e35450b70fad2a9cf/rsa-4.0-py2.py3-none-any.whl\r\n",
      "Collecting requests-oauthlib>=0.7.0 (from google-auth-oauthlib<0.5,>=0.4.1->tensorboard<2.2.0,>=2.1.0->tensorflow)\r\n",
      "  Using cached https://files.pythonhosted.org/packages/a3/12/b92740d845ab62ea4edf04d2f4164d82532b5a0b03836d4d4e71c6f3d379/requests_oauthlib-1.3.0-py2.py3-none-any.whl\r\n",
      "Collecting chardet<3.1.0,>=3.0.2 (from requests<3,>=2.21.0->tensorboard<2.2.0,>=2.1.0->tensorflow)\r\n",
      "  Using cached https://files.pythonhosted.org/packages/bc/a9/01ffebfb562e4274b6487b4bb1ddec7ca55ec7510b22e4c51f14098443b8/chardet-3.0.4-py2.py3-none-any.whl\r\n",
      "Collecting idna<2.9,>=2.5 (from requests<3,>=2.21.0->tensorboard<2.2.0,>=2.1.0->tensorflow)\r\n",
      "  Using cached https://files.pythonhosted.org/packages/14/2c/cd551d81dbe15200be1cf41cd03869a46fe7226e7450af7a6545bfc474c9/idna-2.8-py2.py3-none-any.whl\r\n",
      "Collecting certifi>=2017.4.17 (from requests<3,>=2.21.0->tensorboard<2.2.0,>=2.1.0->tensorflow)\r\n",
      "  Using cached https://files.pythonhosted.org/packages/b9/63/df50cac98ea0d5b006c55a399c3bf1db9da7b5a24de7890bc9cfd5dd9e99/certifi-2019.11.28-py2.py3-none-any.whl\r\n",
      "Collecting urllib3!=1.25.0,!=1.25.1,<1.26,>=1.21.1 (from requests<3,>=2.21.0->tensorboard<2.2.0,>=2.1.0->tensorflow)\r\n",
      "  Using cached https://files.pythonhosted.org/packages/e8/74/6e4f91745020f967d09332bb2b8b9b10090957334692eb88ea4afe91b77f/urllib3-1.25.8-py2.py3-none-any.whl\r\n",
      "Collecting pyasn1<0.5.0,>=0.4.6 (from pyasn1-modules>=0.2.1->google-auth<2,>=1.6.3->tensorboard<2.2.0,>=2.1.0->tensorflow)\r\n",
      "  Using cached https://files.pythonhosted.org/packages/62/1e/a94a8d635fa3ce4cfc7f506003548d0a2447ae76fd5ca53932970fe3053f/pyasn1-0.4.8-py2.py3-none-any.whl\r\n",
      "Collecting oauthlib>=3.0.0 (from requests-oauthlib>=0.7.0->google-auth-oauthlib<0.5,>=0.4.1->tensorboard<2.2.0,>=2.1.0->tensorflow)\r\n",
      "  Using cached https://files.pythonhosted.org/packages/05/57/ce2e7a8fa7c0afb54a0581b14a65b56e62b5759dbc98e80627142b8a3704/oauthlib-3.1.0-py2.py3-none-any.whl\r\n",
      "\u001b[31mtensorboard 2.1.0 has requirement setuptools>=41.0.0, but you'll have setuptools 40.8.0 which is incompatible.\u001b[0m\r\nInstalling collected packages: gast, google-pasta, numpy, keras-preprocessing, scipy, protobuf, termcolor, h5py, keras-applications, astor, opt-einsum, grpcio, wheel, wrapt, tensorflow-estimator, markdown, werkzeug, cachetools, pyasn1, pyasn1-modules, rsa, google-auth, chardet, idna, certifi, urllib3, requests, oauthlib, requests-oauthlib, google-auth-oauthlib, tensorboard, tensorflow\r\n",
      "  Running setup.py install for wrapt ... \u001b[?25l-",
      "\b \b\\",
      "\b \b|",
      "\b \b/\b \bdone\r\n",
      "\u001b[?25hSuccessfully installed astor-0.8.1 cachetools-4.0.0 certifi-2019.11.28 chardet-3.0.4 gast-0.2.2 google-auth-1.11.2 google-auth-oauthlib-0.4.1 google-pasta-0.1.8 grpcio-1.27.2 h5py-2.10.0 idna-2.8 keras-applications-1.0.8 keras-preprocessing-1.1.0 markdown-3.2.1 numpy-1.18.1 oauthlib-3.1.0 opt-einsum-3.1.0 protobuf-3.11.3 pyasn1-0.4.8 pyasn1-modules-0.2.8 requests-2.22.0 requests-oauthlib-1.3.0 rsa-4.0 scipy-1.4.1 tensorboard-2.1.0 tensorflow-2.1.0 tensorflow-estimator-2.1.0 termcolor-1.1.0 urllib3-1.25.8 werkzeug-1.0.0 wheel-0.34.2 wrapt-1.12.0\r\n"
     ],
     "output_type": "stream"
    }
   ],
   "source": [
    "!pip3 install tensorflow"
   ],
   "metadata": {
    "collapsed": false,
    "pycharm": {
     "name": "#%%\n",
     "is_executing": false
    }
   }
  },
  {
   "cell_type": "code",
   "execution_count": 3,
   "outputs": [
    {
     "name": "stdout",
     "text": [
      "Collecting git+https://github.com/tensorflow/examples.git\r\n  Cloning https://github.com/tensorflow/examples.git to /private/var/folders/l3/zj4dwbfn7l1f7hls1nqfvpm80000gp/T/pip-req-build-whujt8ka\r\n",
      "Collecting absl-py (from tensorflow-examples===94d1e02f7ed591eb4255a4843be77772cccd1887-)\r\n",
      "  Using cached https://files.pythonhosted.org/packages/1a/53/9243c600e047bd4c3df9e69cfabc1e8004a82cac2e0c484580a78a94ba2a/absl-py-0.9.0.tar.gz\r\n",
      "Requirement already satisfied: six in ./venv/lib/python3.7/site-packages (from tensorflow-examples===94d1e02f7ed591eb4255a4843be77772cccd1887-) (1.14.0)\r\n",
      "Installing collected packages: absl-py, tensorflow-examples\r\n",
      "  Running setup.py install for absl-py ... \u001b[?25l-",
      "\b \b\\",
      "\b \b|",
      "\b \bdone\r\n",
      "\u001b[?25h  Running setup.py install for tensorflow-examples ... \u001b[?25l-",
      "\b \b\\",
      "\b \b|",
      "\b \bdone\r\n",
      "\u001b[?25hSuccessfully installed absl-py-0.9.0 tensorflow-examples-94d1e02f7ed591eb4255a4843be77772cccd1887-\r\n"
     ],
     "output_type": "stream"
    }
   ],
   "source": [
    "!pip3 install git+https://github.com/tensorflow/examples.git"
   ],
   "metadata": {
    "collapsed": false,
    "pycharm": {
     "name": "#%%\n",
     "is_executing": false
    }
   }
  },
  {
   "cell_type": "code",
   "execution_count": 18,
   "outputs": [],
   "source": [
    "!pip3 install -q tensorflow tensorflow-datasets matplotlib"
   ],
   "metadata": {
    "collapsed": false,
    "pycharm": {
     "name": "#%%\n",
     "is_executing": false
    }
   }
  },
  {
   "cell_type": "code",
   "execution_count": 17,
   "outputs": [],
   "source": [
    "import tensorflow as tf\n"
   ],
   "metadata": {
    "collapsed": false,
    "pycharm": {
     "name": "#%%\n",
     "is_executing": false
    }
   }
  },
  {
   "cell_type": "code",
   "execution_count": 19,
   "outputs": [],
   "source": [
    "from __future__ import absolute_import, division, print_function, unicode_literals\n",
    "\n",
    "import tensorflow_datasets as tfds\n",
    "from tensorflow_examples.models.pix2pix import pix2pix\n",
    "\n",
    "import numpy as np #Julius\n",
    "import os\n",
    "import time\n",
    "import matplotlib.pyplot as plt\n",
    "from IPython.display import clear_output\n",
    "\n",
    "tfds.disable_progress_bar()\n",
    "AUTOTUNE = tf.data.experimental.AUTOTUNE"
   ],
   "metadata": {
    "collapsed": false,
    "pycharm": {
     "name": "#%%\n",
     "is_executing": false
    }
   }
  },
  {
   "cell_type": "markdown",
   "source": [
    "## Input Pipeline\n",
    "\n",
    "This tutorial trains a model to translate from images of horses, to images of zebras. You can find this dataset and similar ones [here](https://www.tensorflow.org/datasets/datasets#cycle_gan). \n",
    "\n",
    "As mentioned in the [paper](https://arxiv.org/abs/1703.10593), apply random jittering and mirroring to the training dataset. These are some of the image augmentation techniques that avoids overfitting.\n",
    "\n",
    "This is similar to what was done in [pix2pix](https://www.tensorflow.org/tutorials/generative/pix2pix#load_the_dataset)\n",
    "\n",
    "* In random jittering, the image is resized to `286 x 286` and then randomly cropped to `256 x 256`.\n",
    "* In random mirroring, the image is randomly flipped horizontally i.e left to right."
   ],
   "metadata": {
    "collapsed": false
   }
  },
  {
   "cell_type": "code",
   "execution_count": 22,
   "outputs": [
    {
     "data": {
      "text/plain": "<TensorSliceDataset shapes: (128, 128, 1), types: tf.float32>"
     },
     "metadata": {},
     "output_type": "execute_result",
     "execution_count": 22
    }
   ],
   "source": [
    "#dataset, metadata = tfds.load('cycle_gan/horse2zebra',\n",
    "#                             with_info=True, as_supervised=True)\n",
    "\n",
    "\n",
    "# In the following I download my Cosmology pictures (for once only one file)\n",
    "# zebras are the cosmology pattern that is projected on the cosmology of horses\n",
    "\n",
    "# In order to come along with the pix2pix gen and dis which are coded for\n",
    "# 3 input channels I introduce (1000,128,128,3) zero arrays and fill\n",
    "# [:,:,:0] up with the corresponding data\n",
    "\n",
    "train_np_zebras=np.load('/Users/Julius_Frey1/thesis/maps/0.101_1.304/kappa_map_cosmo_0.101_1.304_0_total_num_1000.npy')\n",
    "train_np_horses=np.load('/Users/Julius_Frey1/thesis/maps/0.269_0.534/kappa_map_cosmo_0.269_0.534_0_total_num_1000.npy')\n",
    "\n",
    "test_np_zebras=np.load('/Users/Julius_Frey1/thesis/maps/0.101_1.304/kappa_map_cosmo_0.101_1.304_10_total_num_1000.npy')\n",
    "test_np_horses=np.load('/Users/Julius_Frey1/thesis/maps/0.269_0.534/kappa_map_cosmo_0.269_0.534_10_total_num_1000.npy')\n",
    "\n",
    "test_np_zebras=np.expand_dims(test_np_zebras, axis=3)    \n",
    "test_np_horses=np.expand_dims(test_np_horses, axis=3)\n",
    "train_np_zebras=np.expand_dims(train_np_zebras, axis=3)\n",
    "train_np_horses=np.expand_dims(train_np_horses, axis=3)\n",
    "\n",
    "'''three_te_np_ze = np.zeros((1000,128,128,3)) Neglected in order to stay with initial date\n",
    "three_te_np_ho = np.zeros((1000,128,128,3))\n",
    "three_tr_np_ze = np.zeros((1000,128,128,3))\n",
    "three_tr_np_ho = np.zeros((1000,128,128,3))\n",
    "\n",
    "three_te_np_ze[:, : , :, 0] = test_np_zebras[:,:,:,0]\n",
    "three_te_np_ho[:, : , :, 0] = test_np_horses[:,:,:,0]\n",
    "three_tr_np_ze[:, : , :, 0] = train_np_zebras[:,:,:,0]\n",
    "three_tr_np_ho[:, : , :, 0] = train_np_horses[:,:,:,0]\n",
    "\n",
    "three_te_np_ze = three_te_np_ze.astype(np.float32)\n",
    "three_te_np_ho = three_te_np_ho.astype(np.float32)\n",
    "three_tr_np_ze = three_tr_np_ze.astype(np.float32)\n",
    "three_tr_np_ho = three_tr_np_ho.astype(np.float32)\n",
    "\n",
    "train_zebras=tf.data.Dataset.from_tensor_slices(three_tr_np_ze)\n",
    "train_horses=tf.data.Dataset.from_tensor_slices(three_tr_np_ho)\n",
    "\n",
    "test_zebras=tf.data.Dataset.from_tensor_slices(three_te_np_ze)\n",
    "test_horses=tf.data.Dataset.from_tensor_slices(three_te_np_ho)'''\n",
    "\n",
    "train_np_zebras = train_np_zebras.astype(np.float32)\n",
    "train_np_horses = train_np_horses.astype(np.float32)\n",
    "test_np_zebras = test_np_horses.astype(np.float32)\n",
    "test_np_orses = test_np_zebras.astype(np.float32)\n",
    "\n",
    "train_zebras=tf.data.Dataset.from_tensor_slices(train_np_zebras)\n",
    "train_horses=tf.data.Dataset.from_tensor_slices(train_np_horses)\n",
    "\n",
    "test_zebras=tf.data.Dataset.from_tensor_slices(test_np_zebras)\n",
    "test_horses=tf.data.Dataset.from_tensor_slices(test_np_horses)\n",
    "\n",
    "\n",
    "\n",
    "#tf.shape(tf.expand_dims(train_zebras, 2))\n",
    "\n",
    "#train_horses, train_zebras = dataset['trainA'], dataset['trainB']\n",
    "#test_horses, test_zebras = dataset['testA'], dataset['testB']\n"
   ],
   "metadata": {
    "collapsed": false,
    "pycharm": {
     "name": "#%%\n",
     "is_executing": false
    }
   }
  },
  {
   "cell_type": "code",
   "execution_count": 24,
   "outputs": [],
   "source": [
    "BUFFER_SIZE = 900\n",
    "BATCH_SIZE = 1\n",
    "IMG_WIDTH = 128 #256\n",
    "IMG_HEIGHT = 128 #256"
   ],
   "metadata": {
    "collapsed": false,
    "pycharm": {
     "name": "#%%\n",
     "is_executing": false
    }
   }
  },
  {
   "cell_type": "code",
   "execution_count": 25,
   "outputs": [],
   "source": [
    "def random_crop(image):\n",
    "  cropped_image = tf.image.random_crop(\n",
    "      image, size=[IMG_HEIGHT, IMG_WIDTH, 3])\n",
    "\n",
    "  return cropped_image"
   ],
   "metadata": {
    "collapsed": false,
    "pycharm": {
     "name": "#%%\n",
     "is_executing": false
    }
   }
  },
  {
   "cell_type": "code",
   "execution_count": 26,
   "outputs": [],
   "source": [
    "# normalizing the images to [-1, 1]\n",
    "def normalize(image):\n",
    "  image = tf.cast(image, tf.float32)\n",
    "  image = (image / 127.5) - 1 #127.5\n",
    "  return image"
   ],
   "metadata": {
    "collapsed": false,
    "pycharm": {
     "name": "#%%\n",
     "is_executing": false
    }
   }
  },
  {
   "cell_type": "code",
   "execution_count": 27,
   "outputs": [],
   "source": [
    "def random_jitter(image):\n",
    "  # resizing to 286 x 286 x 3\n",
    "  #image = tf.image.resize(image, [286, 286],\n",
    "  #                       method=tf.image.ResizeMethod.NEAREST_NEIGHBOR)\n",
    "\n",
    "  # randomly cropping to 128 x 128 x 3 # 256x256\n",
    "  #image = random_crop(image)\n",
    "\n",
    "  # random mirroring\n",
    "  image = tf.image.random_flip_left_right(image)\n",
    "\n",
    "  return image"
   ],
   "metadata": {
    "collapsed": false,
    "pycharm": {
     "name": "#%%\n",
     "is_executing": false
    }
   }
  },
  {
   "cell_type": "code",
   "execution_count": 28,
   "outputs": [],
   "source": [
    "def preprocess_image_train(image):\n",
    " # image = tf.image.resize(image, [256, 256]) NEW!!!\n",
    "  image = image - tf.math.reduce_mean(image, axis=[1,2], keepdims=True) #Julius Is that right???\n",
    "  #image = random_jitter(image)\n",
    "  #image = normalize(image)\n",
    "  return image"
   ],
   "metadata": {
    "collapsed": false,
    "pycharm": {
     "name": "#%%\n",
     "is_executing": false
    }
   }
  },
  {
   "cell_type": "code",
   "execution_count": 29,
   "outputs": [],
   "source": [
    "def preprocess_image_test(image):\n",
    "  #image = normalize(image)\n",
    "  #image = tf.image.resize(image, [256, 256])  NEW!!!\n",
    "  image = image - tf.math.reduce_mean(image, axis=[1,2], keepdims=True)\n",
    "  return image"
   ],
   "metadata": {
    "collapsed": false,
    "pycharm": {
     "name": "#%%\n",
     "is_executing": false
    }
   }
  },
  {
   "cell_type": "code",
   "execution_count": 30,
   "outputs": [],
   "source": [
    "train_horses = train_horses.map(\n",
    "    preprocess_image_train, num_parallel_calls=AUTOTUNE).shuffle(\n",
    "    BUFFER_SIZE).batch(1)\n",
    "\n",
    "train_zebras = train_zebras.map(\n",
    "    preprocess_image_train, num_parallel_calls=AUTOTUNE).shuffle(\n",
    "    BUFFER_SIZE).batch(1)\n",
    "\n",
    "test_horses = test_horses.map(\n",
    "    preprocess_image_test, num_parallel_calls=AUTOTUNE).shuffle(\n",
    "    BUFFER_SIZE).batch(1)\n",
    "\n",
    "test_zebras = test_zebras.map(\n",
    "    preprocess_image_test, num_parallel_calls=AUTOTUNE).shuffle(\n",
    "    BUFFER_SIZE).batch(1)"
   ],
   "metadata": {
    "collapsed": false,
    "pycharm": {
     "name": "#%%\n",
     "is_executing": false
    }
   }
  },
  {
   "cell_type": "code",
   "execution_count": 31,
   "outputs": [
    {
     "data": {
      "text/plain": "<BatchDataset shapes: (None, 128, 128, 1), types: tf.float32>"
     },
     "metadata": {},
     "output_type": "execute_result",
     "execution_count": 31
    }
   ],
   "source": [
    "test_zebras"
   ],
   "metadata": {
    "collapsed": false,
    "pycharm": {
     "name": "#%%\n",
     "is_executing": false
    }
   }
  },
  {
   "cell_type": "code",
   "execution_count": 32,
   "outputs": [],
   "source": [
    "sample_horse = next(iter(train_horses))\n",
    "#sample_zebra = tf.concat([next(iter(train_zebras)) , t1 , t1], 3)\n",
    "sample_zebra = next(iter(train_zebras))"
   ],
   "metadata": {
    "collapsed": false,
    "pycharm": {
     "name": "#%%\n",
     "is_executing": false
    }
   }
  },
  {
   "cell_type": "code",
   "execution_count": 33,
   "outputs": [
    {
     "data": {
      "text/plain": "<matplotlib.image.AxesImage at 0x1716ccd90>"
     },
     "metadata": {},
     "output_type": "execute_result",
     "execution_count": 33
    },
    {
     "data": {
      "text/plain": "<Figure size 432x288 with 2 Axes>",
      "image/png": "[encoded data removed]"
     },
     "metadata": {
      "needs_background": "light"
     },
     "output_type": "display_data"
    }
   ],
   "source": [
    "plt.subplot(121)\n",
    "plt.title('Horse')\n",
    "plt.imshow(sample_horse[0,:,:,0] * 0.5 + 0.5)\n",
    "\n",
    "plt.subplot(122)\n",
    "plt.title('Horse with random jitter')\n",
    "plt.imshow(sample_horse[0,:,:,0] * 0.5 + 0.5) #randomjitter"
   ],
   "metadata": {
    "collapsed": false,
    "pycharm": {
     "name": "#%%\n",
     "is_executing": false
    }
   }
  },
  {
   "cell_type": "code",
   "execution_count": 34,
   "outputs": [
    {
     "data": {
      "text/plain": "<matplotlib.image.AxesImage at 0x1319d8850>"
     },
     "metadata": {},
     "output_type": "execute_result",
     "execution_count": 34
    },
    {
     "data": {
      "text/plain": "<Figure size 432x288 with 2 Axes>",
      "image/png": "[encoded data removed]"
     },
     "metadata": {
      "needs_background": "light"
     },
     "output_type": "display_data"
    }
   ],
   "source": [
    "plt.subplot(121)\n",
    "plt.title('Zebra')\n",
    "plt.imshow(sample_zebra[0,:,:,0] * 0.5 + 0.5)\n",
    "\n",
    "plt.subplot(122)\n",
    "plt.title('Zebra with random jitter')\n",
    "plt.imshow(sample_zebra[0,:,:,0] * 0.5 + 0.5) # randomjitter"
   ],
   "metadata": {
    "collapsed": false,
    "pycharm": {
     "name": "#%%\n",
     "is_executing": false
    }
   }
  },
  {
   "cell_type": "markdown",
   "source": [
    "## Import and reuse the Pix2Pix models"
   ],
   "metadata": {
    "collapsed": false
   }
  },
  {
   "cell_type": "markdown",
   "source": [
    "Import the generator and the discriminator used in [Pix2Pix](https://github.com/tensorflow/examples/blob/master/tensorflow_examples/models/pix2pix/pix2pix.py) via the installed [tensorflow_examples](https://github.com/tensorflow/examples) package.\n",
    "\n",
    "The model architecture used in this tutorial is very similar to what was used in [pix2pix](https://github.com/tensorflow/examples/blob/master/tensorflow_examples/models/pix2pix/pix2pix.py). Some of the differences are:\n",
    "\n",
    "* Cyclegan uses [instance normalization](https://arxiv.org/abs/1607.08022) instead of [batch normalization](https://arxiv.org/abs/1502.03167).\n",
    "* The [CycleGAN paper](https://arxiv.org/abs/1703.10593) uses a modified `resnet` based generator. This tutorial is using a modified `unet` generator for simplicity.\n",
    "\n",
    "There are 2 generators (G and F) and 2 discriminators (X and Y) being trained here. \n",
    "\n",
    "* Generator `G` learns to transform image `X` to image `Y`. $(G: X -> Y)$\n",
    "* Generator `F` learns to transform image `Y` to image `X`. $(F: Y -> X)$\n",
    "* Discriminator `D_X` learns to differentiate between image `X` and generated image `X` (`F(Y)`).\n",
    "* Discriminator `D_Y` learns to differentiate between image `Y` and generated image `Y` (`G(X)`).\n",
    "\n",
    "![Cyclegan model](https://github.com/tensorflow/docs/blob/master/site/en/tutorials/generative/images/cyclegan_model.png?raw=1)"
   ],
   "metadata": {
    "collapsed": false
   }
  },
  {
   "cell_type": "code",
   "execution_count": 35,
   "outputs": [],
   "source": [
    "OUTPUT_CHANNELS=1"
   ],
   "metadata": {
    "collapsed": false,
    "pycharm": {
     "name": "#%%\n",
     "is_executing": false
    }
   }
  },
  {
   "cell_type": "code",
   "execution_count": 36,
   "outputs": [],
   "source": [
    "class InstanceNormalization(tf.keras.layers.Layer):\n",
    "  \"\"\"Instance Normalization Layer (https://arxiv.org/abs/1607.08022).\"\"\"\n",
    "\n",
    "  def __init__(self, epsilon=1e-5):\n",
    "    super(InstanceNormalization, self).__init__()\n",
    "    self.epsilon = epsilon\n",
    "\n",
    "  def build(self, input_shape):\n",
    "    self.scale = self.add_weight(\n",
    "        name='scale',\n",
    "        shape=input_shape[-1:],\n",
    "        initializer=tf.random_normal_initializer(1., 0.02),\n",
    "        trainable=True)\n",
    "\n",
    "    self.offset = self.add_weight(\n",
    "        name='offset',\n",
    "        shape=input_shape[-1:],\n",
    "        initializer='zeros',\n",
    "        trainable=True)"
   ],
   "metadata": {
    "collapsed": false,
    "pycharm": {
     "name": "#%%\n",
     "is_executing": false
    }
   }
  },
  {
   "cell_type": "code",
   "execution_count": 37,
   "outputs": [],
   "source": [
    "def downsample(filters, size, norm_type='batchnorm', apply_norm=True):\n",
    "  \"\"\"Downsamples an input.\n",
    "  Conv2D => Batchnorm => LeakyRelu\n",
    "  Args:\n",
    "    filters: number of filters\n",
    "    size: filter size\n",
    "    norm_type: Normalization type; either 'batchnorm' or 'instancenorm'.\n",
    "    apply_norm: If True, adds the batchnorm layer\n",
    "  Returns:\n",
    "    Downsample Sequential Model\n",
    "  \"\"\"\n",
    "  initializer = tf.random_normal_initializer(0., 0.02)\n",
    "\n",
    "  result = tf.keras.Sequential()\n",
    "  result.add(\n",
    "      tf.keras.layers.Conv2D(filters, size, strides=2, padding='same',\n",
    "                             kernel_initializer=initializer, use_bias=False))\n",
    "\n",
    "  if apply_norm:\n",
    "    if norm_type.lower() == 'batchnorm':\n",
    "      result.add(tf.keras.layers.BatchNormalization())\n",
    "    elif norm_type.lower() == 'instancenorm':\n",
    "      result.add(InstanceNormalization())\n",
    "\n",
    "  result.add(tf.keras.layers.LeakyReLU())\n",
    "\n",
    "  return result"
   ],
   "metadata": {
    "collapsed": false,
    "pycharm": {
     "name": "#%%\n",
     "is_executing": false
    }
   }
  },
  {
   "cell_type": "code",
   "execution_count": 38,
   "outputs": [],
   "source": [
    "def upsample(filters, size, norm_type='batchnorm', apply_dropout=False):\n",
    "  \"\"\"Upsamples an input.\n",
    "  Conv2DTranspose => Batchnorm => Dropout => Relu\n",
    "  Args:\n",
    "    filters: number of filters\n",
    "    size: filter size\n",
    "    norm_type: Normalization type; either 'batchnorm' or 'instancenorm'.\n",
    "    apply_dropout: If True, adds the dropout layer\n",
    "  Returns:\n",
    "    Upsample Sequential Model\n",
    "  \"\"\"\n",
    "\n",
    "  initializer = tf.random_normal_initializer(0., 0.02)\n",
    "\n",
    "  result = tf.keras.Sequential()\n",
    "  result.add(\n",
    "      tf.keras.layers.Conv2DTranspose(filters, size, strides=2,\n",
    "                                      padding='same',\n",
    "                                      kernel_initializer=initializer,\n",
    "                                      use_bias=False))\n",
    "\n",
    "  if norm_type.lower() == 'batchnorm':\n",
    "    result.add(tf.keras.layers.BatchNormalization())\n",
    "  elif norm_type.lower() == 'instancenorm':\n",
    "    result.add(InstanceNormalization())\n",
    "\n",
    "  if apply_dropout:\n",
    "    result.add(tf.keras.layers.Dropout(0.5))\n",
    "\n",
    "  result.add(tf.keras.layers.ReLU())\n",
    "\n",
    "  return result\n"
   ],
   "metadata": {
    "collapsed": false,
    "pycharm": {
     "name": "#%%\n",
     "is_executing": false
    }
   }
  },
  {
   "cell_type": "code",
   "execution_count": 39,
   "outputs": [],
   "source": [
    "def unet_generator(output_channels, norm_type='batchnorm'):\n",
    "  \"\"\"Modified u-net generator model (https://arxiv.org/abs/1611.07004).\n",
    "  Args:\n",
    "    output_channels: Output channels\n",
    "    norm_type: Type of normalization. Either 'batchnorm' or 'instancenorm'.\n",
    "  Returns:\n",
    "    Generator model\n",
    "  \"\"\"\n",
    "\n",
    "  down_stack = [\n",
    "      downsample(64, 4, norm_type, apply_norm=False),  # (bs, 128, 128, 64)\n",
    "      downsample(128, 4, norm_type),  # (bs, 64, 64, 128)\n",
    "      downsample(256, 4, norm_type),  # (bs, 32, 32, 256)\n",
    "      downsample(512, 4, norm_type),  # (bs, 16, 16, 512)\n",
    "      downsample(512, 4, norm_type),  # (bs, 8, 8, 512)\n",
    "      downsample(512, 4, norm_type),  # (bs, 4, 4, 512)\n",
    "      downsample(512, 4, norm_type),  # (bs, 2, 2, 512)\n",
    "      #downsample(512, 4, norm_type),  # (bs, 1, 1, 512)  JULIUS FREY\n",
    "  ]\n",
    "\n",
    "  up_stack = [\n",
    "      #upsample(512, 4, norm_type, apply_dropout=True),  # (bs, 2, 2, 1024) JULIUS FREY\n",
    "      upsample(512, 4, norm_type, apply_dropout=True),  # (bs, 4, 4, 1024)\n",
    "      upsample(512, 4, norm_type, apply_dropout=True),  # (bs, 8, 8, 1024)\n",
    "      upsample(512, 4, norm_type),  # (bs, 16, 16, 1024)\n",
    "      upsample(256, 4, norm_type),  # (bs, 32, 32, 512)\n",
    "      upsample(128, 4, norm_type),  # (bs, 64, 64, 256)\n",
    "      upsample(64, 4, norm_type),  # (bs, 128, 128, 128)\n",
    "  ]\n",
    "\n",
    "  initializer = tf.random_normal_initializer(0., 0.02)\n",
    "  last = tf.keras.layers.Conv2DTranspose(\n",
    "      output_channels, 4, strides=2,\n",
    "      padding='same', kernel_initializer=initializer,\n",
    "      activation='tanh')  # (bs, 256, 256, 3)\n",
    "\n",
    "  concat = tf.keras.layers.Concatenate()\n",
    "\n",
    "  inputs = tf.keras.layers.Input(shape=[None, None, 1])  # JULIUS FREY\n",
    "  x = inputs\n",
    "\n",
    "  # Downsampling through the model\n",
    "  skips = []\n",
    "  for down in down_stack:\n",
    "    x = down(x)\n",
    "    skips.append(x)\n",
    "\n",
    "  skips = reversed(skips[:-1])\n",
    "\n",
    "  # Upsampling and establishing the skip connections\n",
    "  for up, skip in zip(up_stack, skips):\n",
    "    x = up(x)\n",
    "    x = concat([x, skip])\n",
    "\n",
    "  x = last(x)\n",
    "\n",
    "  return tf.keras.Model(inputs=inputs, outputs=x)"
   ],
   "metadata": {
    "collapsed": false,
    "pycharm": {
     "name": "#%%\n",
     "is_executing": false
    }
   }
  },
  {
   "cell_type": "code",
   "execution_count": 40,
   "outputs": [
    {
     "name": "stdout",
     "text": [
      "Failed to import pydot. You must install pydot and graphviz for `pydotprint` to work.\n"
     ],
     "output_type": "stream"
    }
   ],
   "source": [
    "generator = unet_generator(1, norm_type='batchnorm')\n",
    "tf.keras.utils.plot_model(generator, show_shapes=True, dpi=64)"
   ],
   "metadata": {
    "collapsed": false,
    "pycharm": {
     "name": "#%%\n",
     "is_executing": false
    }
   }
  },
  {
   "cell_type": "code",
   "execution_count": 41,
   "outputs": [],
   "source": [
    "def discriminator(norm_type='batchnorm', target=True):\n",
    "  \"\"\"PatchGan discriminator model (https://arxiv.org/abs/1611.07004).\n",
    "  Args:\n",
    "    norm_type: Type of normalization. Either 'batchnorm' or 'instancenorm'.\n",
    "    target: Bool, indicating whether target image is an input or not.\n",
    "  Returns:\n",
    "    Discriminator model\n",
    "  \"\"\"\n",
    "\n",
    "  initializer = tf.random_normal_initializer(0., 0.02)\n",
    "\n",
    "  inp = tf.keras.layers.Input(shape=[None, None, 1], name='input_image') # JULIUS FREY from 3 to 1\n",
    "  x = inp\n",
    "\n",
    "  if target:\n",
    "    tar = tf.keras.layers.Input(shape=[None, None, 1], name='target_image') #JULIUS FREY from 3 to 1\n",
    "    x = tf.keras.layers.concatenate([inp, tar])  # (bs, 256, 256, channels*2)\n",
    "\n",
    "  down1 = downsample(64, 4, norm_type, False)(x)  # (bs, 128, 128, 64)\n",
    "  down2 = downsample(128, 4, norm_type)(down1)  # (bs, 64, 64, 128)\n",
    "  down3 = downsample(256, 4, norm_type)(down2)  # (bs, 32, 32, 256)\n",
    "\n",
    "  zero_pad1 = tf.keras.layers.ZeroPadding2D()(down3)  # (bs, 34, 34, 256)\n",
    "  conv = tf.keras.layers.Conv2D(\n",
    "      512, 4, strides=1, kernel_initializer=initializer,\n",
    "      use_bias=False)(zero_pad1)  # (bs, 31, 31, 512)\n",
    "\n",
    "  if norm_type.lower() == 'batchnorm':\n",
    "    norm1 = tf.keras.layers.BatchNormalization()(conv)\n",
    "  elif norm_type.lower() == 'instancenorm':\n",
    "    norm1 = InstanceNormalization()(conv)\n",
    "\n",
    "  leaky_relu = tf.keras.layers.LeakyReLU()(norm1)\n",
    "\n",
    "  zero_pad2 = tf.keras.layers.ZeroPadding2D()(leaky_relu)  # (bs, 33, 33, 512)\n",
    "\n",
    "  last = tf.keras.layers.Conv2D(\n",
    "      1, 4, strides=1,\n",
    "      kernel_initializer=initializer)(zero_pad2)  # (bs, 30, 30, 1)\n",
    "\n",
    "  if target:\n",
    "    return tf.keras.Model(inputs=[inp, tar], outputs=last)\n",
    "  else:\n",
    "    return tf.keras.Model(inputs=inp, outputs=last)"
   ],
   "metadata": {
    "collapsed": false,
    "pycharm": {
     "name": "#%%\n",
     "is_executing": false
    }
   }
  },
  {
   "cell_type": "code",
   "execution_count": 42,
   "outputs": [
    {
     "name": "stdout",
     "text": [
      "Failed to import pydot. You must install pydot and graphviz for `pydotprint` to work.\n"
     ],
     "output_type": "stream"
    }
   ],
   "source": [
    "discriminator2 = discriminator()\n",
    "tf.keras.utils.plot_model(discriminator2, show_shapes=True, dpi=64)"
   ],
   "metadata": {
    "collapsed": false,
    "pycharm": {
     "name": "#%%\n",
     "is_executing": false
    }
   }
  },
  {
   "cell_type": "code",
   "execution_count": 43,
   "outputs": [],
   "source": [
    "generator_g = unet_generator(OUTPUT_CHANNELS, norm_type='instancenorm')\n",
    "generator_f = unet_generator(OUTPUT_CHANNELS, norm_type='instancenorm')\n",
    "\n",
    "discriminator_x = discriminator(norm_type='instancenorm', target=False)\n",
    "discriminator_y = discriminator(norm_type='instancenorm', target=False)"
   ],
   "metadata": {
    "collapsed": false,
    "pycharm": {
     "name": "#%%\n",
     "is_executing": false
    }
   }
  },
  {
   "cell_type": "code",
   "execution_count": 44,
   "outputs": [
    {
     "data": {
      "text/plain": "<Figure size 576x576 with 2 Axes>",
      "image/png": "[encoded data removed]"
     },
     "metadata": {
      "needs_background": "light"
     },
     "output_type": "display_data"
    }
   ],
   "source": [
    "plt.figure(figsize=(8, 8))\n",
    "\n",
    "plt.subplot(121)\n",
    "plt.title('Is a real zebra?')\n",
    "plt.imshow(discriminator_y(sample_zebra)[0, ..., -1], cmap='RdBu_r')\n",
    "\n",
    "plt.subplot(122)\n",
    "plt.title('Is a real horse?')\n",
    "plt.imshow(discriminator_x(sample_horse)[0, ..., -1], cmap='RdBu_r')\n",
    "\n",
    "plt.show()"
   ],
   "metadata": {
    "collapsed": false,
    "pycharm": {
     "name": "#%%\n",
     "is_executing": false
    }
   }
  },
  {
   "cell_type": "markdown",
   "source": [
    "## Loss functions"
   ],
   "metadata": {
    "collapsed": false
   }
  },
  {
   "cell_type": "markdown",
   "source": [
    "In CycleGAN, there is no paired data to train on, hence there is no guarantee that the input `x` and the target `y` pair are meaningful during training. Thus in order to enforce that the network learns the correct mapping, the authors propose the cycle consistency loss.\n",
    "\n",
    "The discriminator loss and the generator loss are similar to the ones used in [pix2pix](https://www.tensorflow.org/tutorials/generative/pix2pix#define_the_loss_functions_and_the_optimizer)."
   ],
   "metadata": {
    "collapsed": false
   }
  },
  {
   "cell_type": "code",
   "execution_count": 45,
   "outputs": [],
   "source": [
    "\n",
    "LAMBDA = 10"
   ],
   "metadata": {
    "collapsed": false,
    "pycharm": {
     "name": "#%%\n",
     "is_executing": false
    }
   }
  },
  {
   "cell_type": "code",
   "execution_count": 46,
   "outputs": [],
   "source": [
    "loss_obj = tf.keras.losses.BinaryCrossentropy(from_logits=True)"
   ],
   "metadata": {
    "collapsed": false,
    "pycharm": {
     "name": "#%%\n",
     "is_executing": false
    }
   }
  },
  {
   "cell_type": "code",
   "execution_count": 47,
   "outputs": [],
   "source": [
    "def discriminator_loss(real, generated):\n",
    "  real_loss = loss_obj(tf.ones_like(real), real)\n",
    "\n",
    "  generated_loss = loss_obj(tf.zeros_like(generated), generated)\n",
    "\n",
    "  total_disc_loss = real_loss + generated_loss\n",
    "\n",
    "  return total_disc_loss * 0.5"
   ],
   "metadata": {
    "collapsed": false,
    "pycharm": {
     "name": "#%%\n",
     "is_executing": false
    }
   }
  },
  {
   "cell_type": "code",
   "execution_count": 48,
   "outputs": [],
   "source": [
    "def generator_loss(generated):\n",
    "  return loss_obj(tf.ones_like(generated), generated)"
   ],
   "metadata": {
    "collapsed": false,
    "pycharm": {
     "name": "#%%\n",
     "is_executing": false
    }
   }
  },
  {
   "cell_type": "markdown",
   "source": [
    "Cycle consistency means the result should be close to the original input. For example, if one translates a sentence from English to French, and then translates it back from French to English, then the resulting sentence should be the same as the  original sentence.\n",
    "\n",
    "In cycle consistency loss, \n",
    "\n",
    "* Image $X$ is passed via generator $G$ that yields generated image $\\hat{Y}$.\n",
    "* Generated image $\\hat{Y}$ is passed via generator $F$ that yields cycled image $\\hat{X}$.\n",
    "* Mean absolute error is calculated between $X$ and $\\hat{X}$.\n",
    "\n",
    "$$forward\\ cycle\\ consistency\\ loss: X -> G(X) -> F(G(X)) \\sim \\hat{X}$$\n",
    "\n",
    "$$backward\\ cycle\\ consistency\\ loss: Y -> F(Y) -> G(F(Y)) \\sim \\hat{Y}$$\n",
    "\n",
    "\n",
    "![Cycle loss](https://github.com/tensorflow/docs/blob/master/site/en/tutorials/generative/images/cycle_loss.png?raw=1)"
   ],
   "metadata": {
    "collapsed": false
   }
  },
  {
   "cell_type": "code",
   "execution_count": 49,
   "outputs": [],
   "source": [
    "def calc_cycle_loss(real_image, cycled_image):\n",
    "  loss1 = tf.reduce_mean(tf.abs(real_image - cycled_image))\n",
    "  \n",
    "  return LAMBDA * loss1"
   ],
   "metadata": {
    "collapsed": false,
    "pycharm": {
     "name": "#%%\n",
     "is_executing": false
    }
   }
  },
  {
   "cell_type": "markdown",
   "source": [
    "As shown above, generator $G$ is responsible for translating image $X$ to image $Y$. Identity loss says that, if you fed image $Y$ to generator $G$, it should yield the real image $Y$ or something close to image $Y$.\n",
    "\n",
    "$$Identity\\ loss = |G(Y) - Y| + |F(X) - X|$$"
   ],
   "metadata": {
    "collapsed": false
   }
  },
  {
   "cell_type": "code",
   "execution_count": 50,
   "outputs": [],
   "source": [
    "def identity_loss(real_image, same_image):\n",
    "  loss = tf.reduce_mean(tf.abs(real_image - same_image))\n",
    "  return LAMBDA * 0.5 * loss"
   ],
   "metadata": {
    "collapsed": false,
    "pycharm": {
     "name": "#%%\n",
     "is_executing": false
    }
   }
  },
  {
   "cell_type": "markdown",
   "source": [
    "Initialize the optimizers for all the generators and the discriminators."
   ],
   "metadata": {
    "collapsed": false
   }
  },
  {
   "cell_type": "code",
   "execution_count": 51,
   "outputs": [],
   "source": [
    "generator_g_optimizer = tf.keras.optimizers.Adam(2e-4, beta_1=0.5)\n",
    "generator_f_optimizer = tf.keras.optimizers.Adam(2e-4, beta_1=0.5)\n",
    "\n",
    "discriminator_x_optimizer = tf.keras.optimizers.Adam(2e-4, beta_1=0.5)\n",
    "discriminator_y_optimizer = tf.keras.optimizers.Adam(2e-4, beta_1=0.5)"
   ],
   "metadata": {
    "collapsed": false,
    "pycharm": {
     "name": "#%%\n",
     "is_executing": false
    }
   }
  },
  {
   "cell_type": "markdown",
   "source": [
    "## Checkpoints"
   ],
   "metadata": {
    "collapsed": false
   }
  },
  {
   "cell_type": "code",
   "execution_count": 52,
   "outputs": [],
   "source": [
    "checkpoint_path = \"./checkpoints/train\"\n",
    "\n",
    "ckpt = tf.train.Checkpoint(generator_g=generator_g,\n",
    "                           generator_f=generator_f,\n",
    "                           discriminator_x=discriminator_x,\n",
    "                           discriminator_y=discriminator_y,\n",
    "                           generator_g_optimizer=generator_g_optimizer,\n",
    "                           generator_f_optimizer=generator_f_optimizer,\n",
    "                           discriminator_x_optimizer=discriminator_x_optimizer,\n",
    "                           discriminator_y_optimizer=discriminator_y_optimizer)\n",
    "\n",
    "ckpt_manager = tf.train.CheckpointManager(ckpt, checkpoint_path, max_to_keep=5)\n",
    "\n",
    "# if a checkpoint exists, restore the latest checkpoint.\n",
    "if ckpt_manager.latest_checkpoint:\n",
    "  ckpt.restore(ckpt_manager.latest_checkpoint)\n",
    "  print ('Latest checkpoint restored!!')"
   ],
   "metadata": {
    "collapsed": false,
    "pycharm": {
     "name": "#%%\n",
     "is_executing": false
    }
   }
  },
  {
   "cell_type": "markdown",
   "source": [
    "## Training\n",
    "\n",
    "Note: This example model is trained for fewer epochs (40) than the paper (200) to keep training time reasonable for this tutorial. Predictions may be less accurate. "
   ],
   "metadata": {
    "collapsed": false
   }
  },
  {
   "cell_type": "code",
   "execution_count": 53,
   "outputs": [],
   "source": [
    "EPOCHS = 200"
   ],
   "metadata": {
    "collapsed": false,
    "pycharm": {
     "name": "#%%\n",
     "is_executing": false
    }
   }
  },
  {
   "cell_type": "code",
   "execution_count": 54,
   "outputs": [],
   "source": [
    "def generate_images(model, test_input):\n",
    "  prediction = model(test_input)\n",
    "    \n",
    "  plt.figure(figsize=(12, 12))\n",
    "\n",
    "  display_list = [test_input, prediction]   ### Julius Frey: actually, it was test_input[0], prediction[0]\n",
    "  title = ['Input Image', 'Predicted Image']\n",
    "\n",
    "  for i in range(2):\n",
    "    plt.subplot(1, 2, i+1)\n",
    "    plt.title(title[i])\n",
    "    # getting the pixel values between [0, 1] to plot it.\n",
    "    plt.imshow(display_list[i][0,:,:,0] * 0.5 + 0.5)\n",
    "    plt.axis('off')\n",
    "  plt.show()"
   ],
   "metadata": {
    "collapsed": false,
    "pycharm": {
     "name": "#%%\n",
     "is_executing": false
    }
   }
  },
  {
   "cell_type": "markdown",
   "source": [
    "Even though the training loop looks complicated, it consists of four basic steps:\n",
    "\n",
    "* Get the predictions.\n",
    "* Calculate the loss.\n",
    "* Calculate the gradients using backpropagation.\n",
    "* Apply the gradients to the optimizer."
   ],
   "metadata": {
    "collapsed": false
   }
  },
  {
   "cell_type": "code",
   "execution_count": 55,
   "outputs": [],
   "source": [
    "@tf.function\n",
    "def train_step(real_x, real_y):\n",
    "  # persistent is set to True because the tape is used more than\n",
    "  # once to calculate the gradients.\n",
    "  with tf.GradientTape(persistent=True) as tape:\n",
    "    # Generator G translates X -> Y\n",
    "    # Generator F translates Y -> X.\n",
    "    \n",
    "    fake_y = generator_g(real_x, training=True)\n",
    "    cycled_x = generator_f(fake_y, training=True)\n",
    "\n",
    "    fake_x = generator_f(real_y, training=True)\n",
    "    cycled_y = generator_g(fake_x, training=True)\n",
    "\n",
    "    # same_x and same_y are used for identity loss.\n",
    "    same_x = generator_f(real_x, training=True)\n",
    "    same_y = generator_g(real_y, training=True)\n",
    "\n",
    "    disc_real_x = discriminator_x(real_x, training=True)\n",
    "    disc_real_y = discriminator_y(real_y, training=True)\n",
    "\n",
    "    disc_fake_x = discriminator_x(fake_x, training=True)\n",
    "    disc_fake_y = discriminator_y(fake_y, training=True)\n",
    "\n",
    "    # calculate the loss\n",
    "    gen_g_loss = generator_loss(disc_fake_y)\n",
    "    gen_f_loss = generator_loss(disc_fake_x)\n",
    "    \n",
    "    total_cycle_loss = calc_cycle_loss(real_x, cycled_x) + calc_cycle_loss(real_y, cycled_y)\n",
    "    \n",
    "    # Total generator loss = adversarial loss + cycle loss\n",
    "    total_gen_g_loss = gen_g_loss + total_cycle_loss + identity_loss(real_y, same_y)\n",
    "    total_gen_f_loss = gen_f_loss + total_cycle_loss + identity_loss(real_x, same_x)\n",
    "\n",
    "    disc_x_loss = discriminator_loss(disc_real_x, disc_fake_x)\n",
    "    disc_y_loss = discriminator_loss(disc_real_y, disc_fake_y)\n",
    "  \n",
    "  # Calculate the gradients for generator and discriminator\n",
    "  generator_g_gradients = tape.gradient(total_gen_g_loss, \n",
    "                                        generator_g.trainable_variables)\n",
    "  generator_f_gradients = tape.gradient(total_gen_f_loss, \n",
    "                                        generator_f.trainable_variables)\n",
    "  \n",
    "  discriminator_x_gradients = tape.gradient(disc_x_loss, \n",
    "                                            discriminator_x.trainable_variables)\n",
    "  discriminator_y_gradients = tape.gradient(disc_y_loss, \n",
    "                                            discriminator_y.trainable_variables)\n",
    "  \n",
    "  # Apply the gradients to the optimizer\n",
    "  generator_g_optimizer.apply_gradients(zip(generator_g_gradients, \n",
    "                                            generator_g.trainable_variables))\n",
    "\n",
    "  generator_f_optimizer.apply_gradients(zip(generator_f_gradients, \n",
    "                                            generator_f.trainable_variables))\n",
    "  \n",
    "  discriminator_x_optimizer.apply_gradients(zip(discriminator_x_gradients,\n",
    "                                                discriminator_x.trainable_variables))\n",
    "  \n",
    "  discriminator_y_optimizer.apply_gradients(zip(discriminator_y_gradients,\n",
    "                                                discriminator_y.trainable_variables))"
   ],
   "metadata": {
    "collapsed": false,
    "pycharm": {
     "name": "#%%\n",
     "is_executing": false
    }
   }
  },
  {
   "cell_type": "code",
   "execution_count": 56,
   "outputs": [
    {
     "data": {
      "text/plain": "<ZipDataset shapes: ((None, 128, 128, 1), (None, 128, 128, 1)), types: (tf.float32, tf.float32)>"
     },
     "metadata": {},
     "output_type": "execute_result",
     "execution_count": 56
    }
   ],
   "source": [
    "tf.data.Dataset.zip((train_horses, train_zebras))\n"
   ],
   "metadata": {
    "collapsed": false,
    "pycharm": {
     "name": "#%%\n",
     "is_executing": false
    }
   }
  },
  {
   "cell_type": "code",
   "execution_count": 57,
   "outputs": [
    {
     "name": "stdout",
     "text": [
      "WARNING:tensorflow:Gradients do not exist for variables ['sequential_17/instance_normalization/scale:0', 'sequential_17/instance_normalization/offset:0', 'sequential_18/instance_normalization_1/scale:0', 'sequential_18/instance_normalization_1/offset:0', 'sequential_19/instance_normalization_2/scale:0', 'sequential_19/instance_normalization_2/offset:0', 'sequential_20/instance_normalization_3/scale:0', 'sequential_20/instance_normalization_3/offset:0', 'sequential_21/instance_normalization_4/scale:0', 'sequential_21/instance_normalization_4/offset:0', 'sequential_22/instance_normalization_5/scale:0', 'sequential_22/instance_normalization_5/offset:0', 'sequential_23/instance_normalization_6/scale:0', 'sequential_23/instance_normalization_6/offset:0', 'sequential_24/instance_normalization_7/scale:0', 'sequential_24/instance_normalization_7/offset:0', 'sequential_25/instance_normalization_8/scale:0', 'sequential_25/instance_normalization_8/offset:0', 'sequential_26/instance_normalization_9/scale:0', 'sequential_26/instance_normalization_9/offset:0', 'sequential_27/instance_normalization_10/scale:0', 'sequential_27/instance_normalization_10/offset:0', 'sequential_28/instance_normalization_11/scale:0', 'sequential_28/instance_normalization_11/offset:0'] when minimizing the loss.\n",
      "WARNING:tensorflow:Gradients do not exist for variables ['sequential_30/instance_normalization_12/scale:0', 'sequential_30/instance_normalization_12/offset:0', 'sequential_31/instance_normalization_13/scale:0', 'sequential_31/instance_normalization_13/offset:0', 'sequential_32/instance_normalization_14/scale:0', 'sequential_32/instance_normalization_14/offset:0', 'sequential_33/instance_normalization_15/scale:0', 'sequential_33/instance_normalization_15/offset:0', 'sequential_34/instance_normalization_16/scale:0', 'sequential_34/instance_normalization_16/offset:0', 'sequential_35/instance_normalization_17/scale:0', 'sequential_35/instance_normalization_17/offset:0', 'sequential_36/instance_normalization_18/scale:0', 'sequential_36/instance_normalization_18/offset:0', 'sequential_37/instance_normalization_19/scale:0', 'sequential_37/instance_normalization_19/offset:0', 'sequential_38/instance_normalization_20/scale:0', 'sequential_38/instance_normalization_20/offset:0', 'sequential_39/instance_normalization_21/scale:0', 'sequential_39/instance_normalization_21/offset:0', 'sequential_40/instance_normalization_22/scale:0', 'sequential_40/instance_normalization_22/offset:0', 'sequential_41/instance_normalization_23/scale:0', 'sequential_41/instance_normalization_23/offset:0'] when minimizing the loss.\n",
      "WARNING:tensorflow:Gradients do not exist for variables ['sequential_43/instance_normalization_24/scale:0', 'sequential_43/instance_normalization_24/offset:0', 'sequential_44/instance_normalization_25/scale:0', 'sequential_44/instance_normalization_25/offset:0', 'instance_normalization_26/scale:0', 'instance_normalization_26/offset:0'] when minimizing the loss.\n",
      "WARNING:tensorflow:Gradients do not exist for variables ['sequential_46/instance_normalization_27/scale:0', 'sequential_46/instance_normalization_27/offset:0', 'sequential_47/instance_normalization_28/scale:0', 'sequential_47/instance_normalization_28/offset:0', 'instance_normalization_29/scale:0', 'instance_normalization_29/offset:0'] when minimizing the loss.\n",
      "WARNING:tensorflow:Gradients do not exist for variables ['sequential_17/instance_normalization/scale:0', 'sequential_17/instance_normalization/offset:0', 'sequential_18/instance_normalization_1/scale:0', 'sequential_18/instance_normalization_1/offset:0', 'sequential_19/instance_normalization_2/scale:0', 'sequential_19/instance_normalization_2/offset:0', 'sequential_20/instance_normalization_3/scale:0', 'sequential_20/instance_normalization_3/offset:0', 'sequential_21/instance_normalization_4/scale:0', 'sequential_21/instance_normalization_4/offset:0', 'sequential_22/instance_normalization_5/scale:0', 'sequential_22/instance_normalization_5/offset:0', 'sequential_23/instance_normalization_6/scale:0', 'sequential_23/instance_normalization_6/offset:0', 'sequential_24/instance_normalization_7/scale:0', 'sequential_24/instance_normalization_7/offset:0', 'sequential_25/instance_normalization_8/scale:0', 'sequential_25/instance_normalization_8/offset:0', 'sequential_26/instance_normalization_9/scale:0', 'sequential_26/instance_normalization_9/offset:0', 'sequential_27/instance_normalization_10/scale:0', 'sequential_27/instance_normalization_10/offset:0', 'sequential_28/instance_normalization_11/scale:0', 'sequential_28/instance_normalization_11/offset:0'] when minimizing the loss.\n",
      "WARNING:tensorflow:Gradients do not exist for variables ['sequential_30/instance_normalization_12/scale:0', 'sequential_30/instance_normalization_12/offset:0', 'sequential_31/instance_normalization_13/scale:0', 'sequential_31/instance_normalization_13/offset:0', 'sequential_32/instance_normalization_14/scale:0', 'sequential_32/instance_normalization_14/offset:0', 'sequential_33/instance_normalization_15/scale:0', 'sequential_33/instance_normalization_15/offset:0', 'sequential_34/instance_normalization_16/scale:0', 'sequential_34/instance_normalization_16/offset:0', 'sequential_35/instance_normalization_17/scale:0', 'sequential_35/instance_normalization_17/offset:0', 'sequential_36/instance_normalization_18/scale:0', 'sequential_36/instance_normalization_18/offset:0', 'sequential_37/instance_normalization_19/scale:0', 'sequential_37/instance_normalization_19/offset:0', 'sequential_38/instance_normalization_20/scale:0', 'sequential_38/instance_normalization_20/offset:0', 'sequential_39/instance_normalization_21/scale:0', 'sequential_39/instance_normalization_21/offset:0', 'sequential_40/instance_normalization_22/scale:0', 'sequential_40/instance_normalization_22/offset:0', 'sequential_41/instance_normalization_23/scale:0', 'sequential_41/instance_normalization_23/offset:0'] when minimizing the loss.\n",
      "WARNING:tensorflow:Gradients do not exist for variables ['sequential_43/instance_normalization_24/scale:0', 'sequential_43/instance_normalization_24/offset:0', 'sequential_44/instance_normalization_25/scale:0', 'sequential_44/instance_normalization_25/offset:0', 'instance_normalization_26/scale:0', 'instance_normalization_26/offset:0'] when minimizing the loss.\n",
      "WARNING:tensorflow:Gradients do not exist for variables ['sequential_46/instance_normalization_27/scale:0', 'sequential_46/instance_normalization_27/offset:0', 'sequential_47/instance_normalization_28/scale:0', 'sequential_47/instance_normalization_28/offset:0', 'instance_normalization_29/scale:0', 'instance_normalization_29/offset:0'] when minimizing the loss.\n",
      ".",
      ".",
      "."
     ],
     "output_type": "stream"
    },
    {
     "traceback": [
      "\u001b[0;31m---------------------------------------------------------------------------\u001b[0m",
      "\u001b[0;31mKeyboardInterrupt\u001b[0m                         Traceback (most recent call last)",
      "\u001b[0;32m<ipython-input-57-985ceef675b4>\u001b[0m in \u001b[0;36m<module>\u001b[0;34m\u001b[0m\n\u001b[1;32m      4\u001b[0m   \u001b[0mn\u001b[0m \u001b[0;34m=\u001b[0m \u001b[0;36m0\u001b[0m\u001b[0;34m\u001b[0m\u001b[0;34m\u001b[0m\u001b[0m\n\u001b[1;32m      5\u001b[0m   \u001b[0;32mfor\u001b[0m \u001b[0mimage_x\u001b[0m\u001b[0;34m,\u001b[0m \u001b[0mimage_y\u001b[0m \u001b[0;32min\u001b[0m \u001b[0mtf\u001b[0m\u001b[0;34m.\u001b[0m\u001b[0mdata\u001b[0m\u001b[0;34m.\u001b[0m\u001b[0mDataset\u001b[0m\u001b[0;34m.\u001b[0m\u001b[0mzip\u001b[0m\u001b[0;34m(\u001b[0m\u001b[0;34m(\u001b[0m\u001b[0mtrain_horses\u001b[0m\u001b[0;34m,\u001b[0m \u001b[0mtrain_zebras\u001b[0m\u001b[0;34m)\u001b[0m\u001b[0;34m)\u001b[0m\u001b[0;34m:\u001b[0m\u001b[0;34m\u001b[0m\u001b[0;34m\u001b[0m\u001b[0m\n\u001b[0;32m----> 6\u001b[0;31m     \u001b[0mtrain_step\u001b[0m\u001b[0;34m(\u001b[0m\u001b[0mimage_x\u001b[0m\u001b[0;34m,\u001b[0m \u001b[0mimage_y\u001b[0m\u001b[0;34m)\u001b[0m\u001b[0;34m\u001b[0m\u001b[0;34m\u001b[0m\u001b[0m\n\u001b[0m\u001b[1;32m      7\u001b[0m     \u001b[0;32mif\u001b[0m \u001b[0mn\u001b[0m \u001b[0;34m%\u001b[0m \u001b[0;36m10\u001b[0m \u001b[0;34m==\u001b[0m \u001b[0;36m0\u001b[0m\u001b[0;34m:\u001b[0m\u001b[0;34m\u001b[0m\u001b[0;34m\u001b[0m\u001b[0m\n\u001b[1;32m      8\u001b[0m       \u001b[0mprint\u001b[0m \u001b[0;34m(\u001b[0m\u001b[0;34m'.'\u001b[0m\u001b[0;34m,\u001b[0m \u001b[0mend\u001b[0m\u001b[0;34m=\u001b[0m\u001b[0;34m''\u001b[0m\u001b[0;34m)\u001b[0m\u001b[0;34m\u001b[0m\u001b[0;34m\u001b[0m\u001b[0m\n",
      "\u001b[0;32m~/thesis/venv/lib/python3.7/site-packages/tensorflow_core/python/eager/def_function.py\u001b[0m in \u001b[0;36m__call__\u001b[0;34m(self, *args, **kwds)\u001b[0m\n\u001b[1;32m    566\u001b[0m         \u001b[0mxla_context\u001b[0m\u001b[0;34m.\u001b[0m\u001b[0mExit\u001b[0m\u001b[0;34m(\u001b[0m\u001b[0;34m)\u001b[0m\u001b[0;34m\u001b[0m\u001b[0;34m\u001b[0m\u001b[0m\n\u001b[1;32m    567\u001b[0m     \u001b[0;32melse\u001b[0m\u001b[0;34m:\u001b[0m\u001b[0;34m\u001b[0m\u001b[0;34m\u001b[0m\u001b[0m\n\u001b[0;32m--> 568\u001b[0;31m       \u001b[0mresult\u001b[0m \u001b[0;34m=\u001b[0m \u001b[0mself\u001b[0m\u001b[0;34m.\u001b[0m\u001b[0m_call\u001b[0m\u001b[0;34m(\u001b[0m\u001b[0;34m*\u001b[0m\u001b[0margs\u001b[0m\u001b[0;34m,\u001b[0m \u001b[0;34m**\u001b[0m\u001b[0mkwds\u001b[0m\u001b[0;34m)\u001b[0m\u001b[0;34m\u001b[0m\u001b[0;34m\u001b[0m\u001b[0m\n\u001b[0m\u001b[1;32m    569\u001b[0m \u001b[0;34m\u001b[0m\u001b[0m\n\u001b[1;32m    570\u001b[0m     \u001b[0;32mif\u001b[0m \u001b[0mtracing_count\u001b[0m \u001b[0;34m==\u001b[0m \u001b[0mself\u001b[0m\u001b[0;34m.\u001b[0m\u001b[0m_get_tracing_count\u001b[0m\u001b[0;34m(\u001b[0m\u001b[0;34m)\u001b[0m\u001b[0;34m:\u001b[0m\u001b[0;34m\u001b[0m\u001b[0;34m\u001b[0m\u001b[0m\n",
      "\u001b[0;32m~/thesis/venv/lib/python3.7/site-packages/tensorflow_core/python/eager/def_function.py\u001b[0m in \u001b[0;36m_call\u001b[0;34m(self, *args, **kwds)\u001b[0m\n\u001b[1;32m    597\u001b[0m       \u001b[0;31m# In this case we have created variables on the first call, so we run the\u001b[0m\u001b[0;34m\u001b[0m\u001b[0;34m\u001b[0m\u001b[0;34m\u001b[0m\u001b[0m\n\u001b[1;32m    598\u001b[0m       \u001b[0;31m# defunned version which is guaranteed to never create variables.\u001b[0m\u001b[0;34m\u001b[0m\u001b[0;34m\u001b[0m\u001b[0;34m\u001b[0m\u001b[0m\n\u001b[0;32m--> 599\u001b[0;31m       \u001b[0;32mreturn\u001b[0m \u001b[0mself\u001b[0m\u001b[0;34m.\u001b[0m\u001b[0m_stateless_fn\u001b[0m\u001b[0;34m(\u001b[0m\u001b[0;34m*\u001b[0m\u001b[0margs\u001b[0m\u001b[0;34m,\u001b[0m \u001b[0;34m**\u001b[0m\u001b[0mkwds\u001b[0m\u001b[0;34m)\u001b[0m  \u001b[0;31m# pylint: disable=not-callable\u001b[0m\u001b[0;34m\u001b[0m\u001b[0;34m\u001b[0m\u001b[0m\n\u001b[0m\u001b[1;32m    600\u001b[0m     \u001b[0;32melif\u001b[0m \u001b[0mself\u001b[0m\u001b[0;34m.\u001b[0m\u001b[0m_stateful_fn\u001b[0m \u001b[0;32mis\u001b[0m \u001b[0;32mnot\u001b[0m \u001b[0;32mNone\u001b[0m\u001b[0;34m:\u001b[0m\u001b[0;34m\u001b[0m\u001b[0;34m\u001b[0m\u001b[0m\n\u001b[1;32m    601\u001b[0m       \u001b[0;31m# Release the lock early so that multiple threads can perform the call\u001b[0m\u001b[0;34m\u001b[0m\u001b[0;34m\u001b[0m\u001b[0;34m\u001b[0m\u001b[0m\n",
      "\u001b[0;32m~/thesis/venv/lib/python3.7/site-packages/tensorflow_core/python/eager/function.py\u001b[0m in \u001b[0;36m__call__\u001b[0;34m(self, *args, **kwargs)\u001b[0m\n\u001b[1;32m   2361\u001b[0m     \u001b[0;32mwith\u001b[0m \u001b[0mself\u001b[0m\u001b[0;34m.\u001b[0m\u001b[0m_lock\u001b[0m\u001b[0;34m:\u001b[0m\u001b[0;34m\u001b[0m\u001b[0;34m\u001b[0m\u001b[0m\n\u001b[1;32m   2362\u001b[0m       \u001b[0mgraph_function\u001b[0m\u001b[0;34m,\u001b[0m \u001b[0margs\u001b[0m\u001b[0;34m,\u001b[0m \u001b[0mkwargs\u001b[0m \u001b[0;34m=\u001b[0m \u001b[0mself\u001b[0m\u001b[0;34m.\u001b[0m\u001b[0m_maybe_define_function\u001b[0m\u001b[0;34m(\u001b[0m\u001b[0margs\u001b[0m\u001b[0;34m,\u001b[0m \u001b[0mkwargs\u001b[0m\u001b[0;34m)\u001b[0m\u001b[0;34m\u001b[0m\u001b[0;34m\u001b[0m\u001b[0m\n\u001b[0;32m-> 2363\u001b[0;31m     \u001b[0;32mreturn\u001b[0m \u001b[0mgraph_function\u001b[0m\u001b[0;34m.\u001b[0m\u001b[0m_filtered_call\u001b[0m\u001b[0;34m(\u001b[0m\u001b[0margs\u001b[0m\u001b[0;34m,\u001b[0m \u001b[0mkwargs\u001b[0m\u001b[0;34m)\u001b[0m  \u001b[0;31m# pylint: disable=protected-access\u001b[0m\u001b[0;34m\u001b[0m\u001b[0;34m\u001b[0m\u001b[0m\n\u001b[0m\u001b[1;32m   2364\u001b[0m \u001b[0;34m\u001b[0m\u001b[0m\n\u001b[1;32m   2365\u001b[0m   \u001b[0;34m@\u001b[0m\u001b[0mproperty\u001b[0m\u001b[0;34m\u001b[0m\u001b[0;34m\u001b[0m\u001b[0m\n",
      "\u001b[0;32m~/thesis/venv/lib/python3.7/site-packages/tensorflow_core/python/eager/function.py\u001b[0m in \u001b[0;36m_filtered_call\u001b[0;34m(self, args, kwargs)\u001b[0m\n\u001b[1;32m   1609\u001b[0m          if isinstance(t, (ops.Tensor,\n\u001b[1;32m   1610\u001b[0m                            resource_variable_ops.BaseResourceVariable))),\n\u001b[0;32m-> 1611\u001b[0;31m         self.captured_inputs)\n\u001b[0m\u001b[1;32m   1612\u001b[0m \u001b[0;34m\u001b[0m\u001b[0m\n\u001b[1;32m   1613\u001b[0m   \u001b[0;32mdef\u001b[0m \u001b[0m_call_flat\u001b[0m\u001b[0;34m(\u001b[0m\u001b[0mself\u001b[0m\u001b[0;34m,\u001b[0m \u001b[0margs\u001b[0m\u001b[0;34m,\u001b[0m \u001b[0mcaptured_inputs\u001b[0m\u001b[0;34m,\u001b[0m \u001b[0mcancellation_manager\u001b[0m\u001b[0;34m=\u001b[0m\u001b[0;32mNone\u001b[0m\u001b[0;34m)\u001b[0m\u001b[0;34m:\u001b[0m\u001b[0;34m\u001b[0m\u001b[0;34m\u001b[0m\u001b[0m\n",
      "\u001b[0;32m~/thesis/venv/lib/python3.7/site-packages/tensorflow_core/python/eager/function.py\u001b[0m in \u001b[0;36m_call_flat\u001b[0;34m(self, args, captured_inputs, cancellation_manager)\u001b[0m\n\u001b[1;32m   1690\u001b[0m       \u001b[0;31m# No tape is watching; skip to running the function.\u001b[0m\u001b[0;34m\u001b[0m\u001b[0;34m\u001b[0m\u001b[0;34m\u001b[0m\u001b[0m\n\u001b[1;32m   1691\u001b[0m       return self._build_call_outputs(self._inference_function.call(\n\u001b[0;32m-> 1692\u001b[0;31m           ctx, args, cancellation_manager=cancellation_manager))\n\u001b[0m\u001b[1;32m   1693\u001b[0m     forward_backward = self._select_forward_and_backward_functions(\n\u001b[1;32m   1694\u001b[0m         \u001b[0margs\u001b[0m\u001b[0;34m,\u001b[0m\u001b[0;34m\u001b[0m\u001b[0;34m\u001b[0m\u001b[0m\n",
      "\u001b[0;32m~/thesis/venv/lib/python3.7/site-packages/tensorflow_core/python/eager/function.py\u001b[0m in \u001b[0;36mcall\u001b[0;34m(self, ctx, args, cancellation_manager)\u001b[0m\n\u001b[1;32m    543\u001b[0m               \u001b[0minputs\u001b[0m\u001b[0;34m=\u001b[0m\u001b[0margs\u001b[0m\u001b[0;34m,\u001b[0m\u001b[0;34m\u001b[0m\u001b[0;34m\u001b[0m\u001b[0m\n\u001b[1;32m    544\u001b[0m               \u001b[0mattrs\u001b[0m\u001b[0;34m=\u001b[0m\u001b[0;34m(\u001b[0m\u001b[0;34m\"executor_type\"\u001b[0m\u001b[0;34m,\u001b[0m \u001b[0mexecutor_type\u001b[0m\u001b[0;34m,\u001b[0m \u001b[0;34m\"config_proto\"\u001b[0m\u001b[0;34m,\u001b[0m \u001b[0mconfig\u001b[0m\u001b[0;34m)\u001b[0m\u001b[0;34m,\u001b[0m\u001b[0;34m\u001b[0m\u001b[0;34m\u001b[0m\u001b[0m\n\u001b[0;32m--> 545\u001b[0;31m               ctx=ctx)\n\u001b[0m\u001b[1;32m    546\u001b[0m         \u001b[0;32melse\u001b[0m\u001b[0;34m:\u001b[0m\u001b[0;34m\u001b[0m\u001b[0;34m\u001b[0m\u001b[0m\n\u001b[1;32m    547\u001b[0m           outputs = execute.execute_with_cancellation(\n",
      "\u001b[0;32m~/thesis/venv/lib/python3.7/site-packages/tensorflow_core/python/eager/execute.py\u001b[0m in \u001b[0;36mquick_execute\u001b[0;34m(op_name, num_outputs, inputs, attrs, ctx, name)\u001b[0m\n\u001b[1;32m     59\u001b[0m     tensors = pywrap_tensorflow.TFE_Py_Execute(ctx._handle, device_name,\n\u001b[1;32m     60\u001b[0m                                                \u001b[0mop_name\u001b[0m\u001b[0;34m,\u001b[0m \u001b[0minputs\u001b[0m\u001b[0;34m,\u001b[0m \u001b[0mattrs\u001b[0m\u001b[0;34m,\u001b[0m\u001b[0;34m\u001b[0m\u001b[0;34m\u001b[0m\u001b[0m\n\u001b[0;32m---> 61\u001b[0;31m                                                num_outputs)\n\u001b[0m\u001b[1;32m     62\u001b[0m   \u001b[0;32mexcept\u001b[0m \u001b[0mcore\u001b[0m\u001b[0;34m.\u001b[0m\u001b[0m_NotOkStatusException\u001b[0m \u001b[0;32mas\u001b[0m \u001b[0me\u001b[0m\u001b[0;34m:\u001b[0m\u001b[0;34m\u001b[0m\u001b[0;34m\u001b[0m\u001b[0m\n\u001b[1;32m     63\u001b[0m     \u001b[0;32mif\u001b[0m \u001b[0mname\u001b[0m \u001b[0;32mis\u001b[0m \u001b[0;32mnot\u001b[0m \u001b[0;32mNone\u001b[0m\u001b[0;34m:\u001b[0m\u001b[0;34m\u001b[0m\u001b[0;34m\u001b[0m\u001b[0m\n",
      "\u001b[0;31mKeyboardInterrupt\u001b[0m: "
     ],
     "ename": "KeyboardInterrupt",
     "evalue": "",
     "output_type": "error"
    }
   ],
   "source": [
    "for epoch in range(EPOCHS):\n",
    "  start = time.time()\n",
    "\n",
    "  n = 0\n",
    "  for image_x, image_y in tf.data.Dataset.zip((train_horses, train_zebras)):\n",
    "    train_step(image_x, image_y)\n",
    "    if n % 10 == 0:\n",
    "      print ('.', end='')\n",
    "    n+=1\n",
    "\n",
    "  clear_output(wait=True)\n",
    "  # Using a consistent image (sample_horse) so that the progress of the model\n",
    "  # is clearly visible.\n",
    "  generate_images(generator_g, sample_horse)\n",
    "\n",
    "  if (epoch + 1) % 5 == 0:\n",
    "    ckpt_save_path = ckpt_manager.save()\n",
    "    print ('Saving checkpoint for epoch {} at {}'.format(epoch+1,\n",
    "                                                         ckpt_save_path))\n",
    "\n",
    "  print ('Time taken for epoch {} is {} sec\\n'.format(epoch + 1,\n",
    "                                                      time.time()-start))"
   ],
   "metadata": {
    "collapsed": false,
    "pycharm": {
     "name": "#%%\n",
     "is_executing": false
    }
   }
  },
  {
   "cell_type": "markdown",
   "source": [
    "## Generate using test dataset"
   ],
   "metadata": {
    "collapsed": false
   }
  },
  {
   "cell_type": "code",
   "execution_count": null,
   "outputs": [],
   "source": [
    "# Run the trained model on the test dataset\n",
    "for inp in test_horses.take(5):\n",
    "  generate_images(generator_g, inp)"
   ],
   "metadata": {
    "collapsed": false,
    "pycharm": {
     "name": "#%%\n"
    }
   }
  },
  {
   "cell_type": "code",
   "execution_count": null,
   "outputs": [],
   "source": [
    "tf.keras.models.save_model(\n",
    "    generator_g,\n",
    "    'gdrive/My Drive/Masterarbeit',\n",
    "    overwrite=True,\n",
    "    include_optimizer=True,\n",
    "    save_format=None,\n",
    "    signatures=None,\n",
    "    options=None\n",
    ")"
   ],
   "metadata": {
    "collapsed": false,
    "pycharm": {
     "name": "#%%\n"
    }
   }
  },
  {
   "cell_type": "code",
   "execution_count": null,
   "outputs": [],
   "source": [
    "new_model = tf.keras.models.load_model(\n",
    "    '/content/gdrive/My Drive/Masterarbeit/',\n",
    "    custom_objects=None,\n",
    "    compile=True\n",
    ")"
   ],
   "metadata": {
    "collapsed": false,
    "pycharm": {
     "name": "#%%\n"
    }
   }
  },
  {
   "cell_type": "code",
   "execution_count": null,
   "outputs": [],
   "source": [
    "for inp in test_horses.take(5):\n",
    "  generate_images(new_model, inp)"
   ],
   "metadata": {
    "collapsed": false,
    "pycharm": {
     "name": "#%%\n"
    }
   }
  },
  {
   "cell_type": "markdown",
   "source": [
    "## Next steps\n",
    "\n",
    "This tutorial has shown how to implement CycleGAN starting from the generator and discriminator implemented in the [Pix2Pix](https://www.tensorflow.org/tutorials/generative/pix2pix) tutorial. As a next step, you could try using a different dataset from [TensorFlow Datasets](https://www.tensorflow.org/datasets/datasets#cycle_gan). \n",
    "\n",
    "You could also train for a larger number of epochs to improve the results, or you could implement the modified ResNet generator used in the [paper](https://arxiv.org/abs/1703.10593) instead of the U-Net generator used here."
   ],
   "metadata": {
    "collapsed": false
   }
  },
  {
   "cell_type": "code",
   "execution_count": null,
   "outputs": [],
   "source": [
    "\n",
    "\n",
    "\n",
    "\n"
   ],
   "metadata": {
    "collapsed": false,
    "pycharm": {
     "name": "#%%\n"
    }
   }
  }
 ],
 "metadata": {
  "kernelspec": {
   "display_name": "Python 3",
   "language": "python",
   "name": "python3"
  },
  "language_info": {
   "codemirror_mode": {
    "name": "ipython",
    "version": 2
   },
   "file_extension": ".py",
   "mimetype": "text/x-python",
   "name": "python",
   "nbconvert_exporter": "python",
   "pygments_lexer": "ipython2",
   "version": "2.7.6"
  },
  "pycharm": {
   "stem_cell": {
    "cell_type": "raw",
    "source": [],
    "metadata": {
     "collapsed": false
    }
   }
  }
 },
 "nbformat": 4,
 "nbformat_minor": 0
}